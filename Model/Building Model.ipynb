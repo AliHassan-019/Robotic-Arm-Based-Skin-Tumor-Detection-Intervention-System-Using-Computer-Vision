{
 "cells": [
  {
   "cell_type": "code",
   "execution_count": 1,
   "id": "6c071d11",
   "metadata": {},
   "outputs": [
    {
     "name": "stdout",
     "output_type": "stream",
     "text": [
      "WARNING:tensorflow:From C:\\Users\\aliha\\anaconda3\\Lib\\site-packages\\keras\\src\\losses.py:2976: The name tf.losses.sparse_softmax_cross_entropy is deprecated. Please use tf.compat.v1.losses.sparse_softmax_cross_entropy instead.\n",
      "\n"
     ]
    }
   ],
   "source": [
    "import numpy as np\n",
    "import tensorflow as tf"
   ]
  },
  {
   "cell_type": "code",
   "execution_count": 2,
   "id": "235251eb",
   "metadata": {},
   "outputs": [],
   "source": [
    "\n",
    "from tensorflow.keras.layers import Conv2D, MaxPool2D, Dropout, Flatten, Dense\n",
    "from tensorflow.keras.models import Sequential, load_model\n",
    "from tensorflow.keras.preprocessing.image import ImageDataGenerator\n",
    "from tensorflow.keras.callbacks import ModelCheckpoint, EarlyStopping\n"
   ]
  },
  {
   "cell_type": "code",
   "execution_count": 3,
   "id": "51247257",
   "metadata": {},
   "outputs": [],
   "source": [
    "# # CNN Model\n",
    "# model=Sequential()\n",
    "# model.add(Conv2D(filters=16, kernel_size=(3,3),activation= 'relu', input_shape=(224,224,3)))\n",
    "\n",
    "# model.add(Conv2D(filters=32, kernel_size=(3,3),activation= 'relu' ))\n",
    "# model.add(MaxPool2D(pool_size=(2,2)))\n",
    "\n",
    "# model.add(Conv2D(filters=64, kernel_size=(3,3),activation= 'relu' ))\n",
    "# model.add(MaxPool2D(pool_size=(2,2)))\n",
    "\n",
    "# model.add(Conv2D(filters=128, kernel_size=(3,3),activation= 'relu' ))\n",
    "# model.add(MaxPool2D(pool_size=(2,2)))\n",
    "\n",
    "# model.add(Dropout(rate=0.25))\n",
    "\n",
    "# model.add(Flatten())\n",
    "# model.add(Dense(units=64, activation='relu'))\n",
    "# model.add(Dropout(rate=0.25))\n",
    "# model.add(Dense(units=1, activation='sigmoid'))\n",
    "\n",
    "# model.summary()"
   ]
  },
  {
   "cell_type": "code",
   "execution_count": 4,
   "id": "2efd255a",
   "metadata": {},
   "outputs": [
    {
     "name": "stdout",
     "output_type": "stream",
     "text": [
      "WARNING:tensorflow:From C:\\Users\\aliha\\anaconda3\\Lib\\site-packages\\keras\\src\\backend.py:873: The name tf.get_default_graph is deprecated. Please use tf.compat.v1.get_default_graph instead.\n",
      "\n",
      "WARNING:tensorflow:From C:\\Users\\aliha\\anaconda3\\Lib\\site-packages\\keras\\src\\layers\\pooling\\max_pooling2d.py:161: The name tf.nn.max_pool is deprecated. Please use tf.nn.max_pool2d instead.\n",
      "\n",
      "Model: \"sequential\"\n",
      "_________________________________________________________________\n",
      " Layer (type)                Output Shape              Param #   \n",
      "=================================================================\n",
      " conv2d (Conv2D)             (None, 222, 222, 16)      448       \n",
      "                                                                 \n",
      " max_pooling2d (MaxPooling2  (None, 111, 111, 16)      0         \n",
      " D)                                                              \n",
      "                                                                 \n",
      " conv2d_1 (Conv2D)           (None, 109, 109, 32)      4640      \n",
      "                                                                 \n",
      " max_pooling2d_1 (MaxPoolin  (None, 54, 54, 32)        0         \n",
      " g2D)                                                            \n",
      "                                                                 \n",
      " flatten (Flatten)           (None, 93312)             0         \n",
      "                                                                 \n",
      " dense (Dense)               (None, 32)                2986016   \n",
      "                                                                 \n",
      " dropout (Dropout)           (None, 32)                0         \n",
      "                                                                 \n",
      " dense_1 (Dense)             (None, 1)                 33        \n",
      "                                                                 \n",
      "=================================================================\n",
      "Total params: 2991137 (11.41 MB)\n",
      "Trainable params: 2991137 (11.41 MB)\n",
      "Non-trainable params: 0 (0.00 Byte)\n",
      "_________________________________________________________________\n"
     ]
    }
   ],
   "source": [
    "# Define a simpler model\n",
    "model = Sequential()\n",
    "model.add(Conv2D(filters=16, kernel_size=(3, 3), activation='relu', input_shape=(224, 224, 3)))\n",
    "model.add(MaxPool2D(pool_size=(2, 2)))\n",
    "model.add(Conv2D(filters=32, kernel_size=(3, 3), activation='relu'))\n",
    "model.add(MaxPool2D(pool_size=(2, 2)))\n",
    "model.add(Flatten())\n",
    "model.add(Dense(units=32, activation='relu'))\n",
    "model.add(Dropout(rate=0.25))\n",
    "model.add(Dense(units=1, activation='sigmoid'))\n",
    "\n",
    "model.summary()"
   ]
  },
  {
   "cell_type": "code",
   "execution_count": 5,
   "id": "b3117e2b",
   "metadata": {},
   "outputs": [
    {
     "name": "stdout",
     "output_type": "stream",
     "text": [
      "WARNING:tensorflow:From C:\\Users\\aliha\\anaconda3\\Lib\\site-packages\\keras\\src\\optimizers\\__init__.py:309: The name tf.train.Optimizer is deprecated. Please use tf.compat.v1.train.Optimizer instead.\n",
      "\n"
     ]
    }
   ],
   "source": [
    "# Compile the model\n",
    "model.compile(optimizer='adam', loss=tf.keras.losses.binary_crossentropy, metrics=['accuracy'])"
   ]
  },
  {
   "cell_type": "code",
   "execution_count": 6,
   "id": "6aa300c1",
   "metadata": {},
   "outputs": [],
   "source": [
    "def preprocessingImages1(path):\n",
    "  \"\"\"\n",
    "  input: path\n",
    "  output: preprocessed images\n",
    "  \"\"\"\n",
    "  image_data=ImageDataGenerator(zoom_range=0.2, shear_range=0.2, rescale=1/255, horizontal_flip=True)\n",
    "  image = image_data.flow_from_directory(directory= path, target_size=(224,224),batch_size=32, class_mode='binary')\n",
    "\n",
    "  return image"
   ]
  },
  {
   "cell_type": "code",
   "execution_count": 7,
   "id": "4f1c3070",
   "metadata": {},
   "outputs": [
    {
     "name": "stdout",
     "output_type": "stream",
     "text": [
      "Found 9605 images belonging to 2 classes.\n"
     ]
    }
   ],
   "source": [
    "path= \"C:/Users/aliha/Desktop/FYP/Project/train\"\n",
    "train_data = preprocessingImages1(path)"
   ]
  },
  {
   "cell_type": "code",
   "execution_count": 8,
   "id": "734a8e20",
   "metadata": {},
   "outputs": [],
   "source": [
    "def preprocessingImages1(path):\n",
    "  \"\"\"\n",
    "  input: path\n",
    "  output: preprocessed images\n",
    "  \"\"\"\n",
    "  image_data=ImageDataGenerator(zoom_range=0.2, shear_range=0.2, rescale=1/255, horizontal_flip=True)\n",
    "  image=image_data.flow_from_directory(directory= path, target_size=(224,224),batch_size=32, class_mode='binary')\n",
    "\n",
    "  return image"
   ]
  },
  {
   "cell_type": "code",
   "execution_count": 9,
   "id": "e8d28ed1",
   "metadata": {},
   "outputs": [],
   "source": [
    "def preprocessingImages2(path):\n",
    "  \"\"\"\n",
    "  input: path\n",
    "  output: preprocessed images\n",
    "  \"\"\"\n",
    "  image_data=ImageDataGenerator( rescale=1/255)\n",
    "  image=image_data.flow_from_directory(directory= path, target_size=(224,224),batch_size=32, class_mode='binary')\n",
    "\n",
    "  return image"
   ]
  },
  {
   "cell_type": "code",
   "execution_count": 10,
   "id": "178487e1",
   "metadata": {},
   "outputs": [
    {
     "name": "stdout",
     "output_type": "stream",
     "text": [
      "Found 1000 images belonging to 2 classes.\n"
     ]
    }
   ],
   "source": [
    "path = \"C:/Users/aliha/Desktop/FYP/Project/test\"\n",
    "test_data= preprocessingImages2(path)"
   ]
  },
  {
   "cell_type": "code",
   "execution_count": 11,
   "id": "9e398735",
   "metadata": {},
   "outputs": [],
   "source": [
    "# validation data\n",
    "def preprocessingImages3(path):\n",
    "  \"\"\"\n",
    "  input: path\n",
    "  output: preprocessed images\n",
    "  \"\"\"\n",
    "  image_data=ImageDataGenerator( rescale=1/255)\n",
    "  image=image_data.flow_from_directory(directory= path, target_size=(224,224),batch_size=32, class_mode='binary')\n",
    "\n",
    "  return image"
   ]
  },
  {
   "cell_type": "code",
   "execution_count": 12,
   "id": "02012b5a",
   "metadata": {},
   "outputs": [
    {
     "name": "stdout",
     "output_type": "stream",
     "text": [
      "Found 1000 images belonging to 2 classes.\n"
     ]
    }
   ],
   "source": [
    "path = \"C:/Users/aliha/Desktop/FYP/Project/test\"\n",
    "val_data= preprocessingImages3(path)"
   ]
  },
  {
   "cell_type": "code",
   "execution_count": 13,
   "id": "32ff41d9",
   "metadata": {},
   "outputs": [],
   "source": [
    "# #Early Stopping\n",
    "# ES = EarlyStopping(monitor='val_accuracy',min_delta=0.01,patience=5, verbose=1, mode='auto')\n",
    "#  # for better performance you can increase patience value from 3 to 5 or any other higher value\n",
    "# #Model Checkpoint\n",
    "# MC = ModelCheckpoint(monitor='val_accuracy',filepath=\"./bestmodel.h5\", verbose=1, save_best_only=True, mode='auto')\n",
    "\n",
    "# # CallBacks\n",
    "# CD= [ES, MC]"
   ]
  },
  {
   "cell_type": "code",
   "execution_count": 15,
   "id": "65c3c180",
   "metadata": {},
   "outputs": [
    {
     "name": "stdout",
     "output_type": "stream",
     "text": [
      "Epoch 1/30\n",
      "WARNING:tensorflow:From C:\\Users\\aliha\\anaconda3\\Lib\\site-packages\\keras\\src\\utils\\tf_utils.py:492: The name tf.ragged.RaggedTensorValue is deprecated. Please use tf.compat.v1.ragged.RaggedTensorValue instead.\n",
      "\n",
      "WARNING:tensorflow:From C:\\Users\\aliha\\anaconda3\\Lib\\site-packages\\keras\\src\\engine\\base_layer_utils.py:384: The name tf.executing_eagerly_outside_functions is deprecated. Please use tf.compat.v1.executing_eagerly_outside_functions instead.\n",
      "\n",
      "8/8 [==============================] - 10s 1s/step - loss: 2.0616 - accuracy: 0.5078 - val_loss: 0.6779 - val_accuracy: 0.5254\n",
      "Epoch 2/30\n",
      "8/8 [==============================] - 8s 1s/step - loss: 0.8175 - accuracy: 0.5664 - val_loss: 0.5710 - val_accuracy: 0.7266\n",
      "Epoch 3/30\n",
      "8/8 [==============================] - 8s 1s/step - loss: 0.6283 - accuracy: 0.6602 - val_loss: 0.5823 - val_accuracy: 0.7305\n",
      "Epoch 4/30\n",
      "8/8 [==============================] - 8s 1s/step - loss: 0.5905 - accuracy: 0.6953 - val_loss: 0.5604 - val_accuracy: 0.7070\n",
      "Epoch 5/30\n",
      "8/8 [==============================] - 8s 1s/step - loss: 0.5375 - accuracy: 0.7383 - val_loss: 0.5142 - val_accuracy: 0.7773\n",
      "Epoch 6/30\n",
      "8/8 [==============================] - 8s 986ms/step - loss: 0.5937 - accuracy: 0.6875 - val_loss: 0.5500 - val_accuracy: 0.6719\n",
      "Epoch 7/30\n",
      "8/8 [==============================] - 8s 991ms/step - loss: 0.5849 - accuracy: 0.6914 - val_loss: 0.5054 - val_accuracy: 0.7910\n",
      "Epoch 8/30\n",
      "8/8 [==============================] - 8s 1s/step - loss: 0.5193 - accuracy: 0.7227 - val_loss: 0.4381 - val_accuracy: 0.8320\n",
      "Epoch 9/30\n",
      "8/8 [==============================] - 8s 1s/step - loss: 0.5150 - accuracy: 0.7109 - val_loss: 0.4166 - val_accuracy: 0.7949\n",
      "Epoch 10/30\n",
      "8/8 [==============================] - 8s 992ms/step - loss: 0.4982 - accuracy: 0.7344 - val_loss: 0.4699 - val_accuracy: 0.7793\n",
      "Epoch 11/30\n",
      "8/8 [==============================] - 8s 997ms/step - loss: 0.5289 - accuracy: 0.7422 - val_loss: 0.4012 - val_accuracy: 0.8008\n",
      "Epoch 12/30\n",
      "8/8 [==============================] - 8s 1s/step - loss: 0.5071 - accuracy: 0.7578 - val_loss: 0.4521 - val_accuracy: 0.8145\n",
      "Epoch 13/30\n",
      "8/8 [==============================] - 8s 991ms/step - loss: 0.5242 - accuracy: 0.7266 - val_loss: 0.4190 - val_accuracy: 0.8086\n",
      "Epoch 14/30\n",
      "8/8 [==============================] - 8s 1s/step - loss: 0.4345 - accuracy: 0.7773 - val_loss: 0.4068 - val_accuracy: 0.8125\n",
      "Epoch 15/30\n",
      "8/8 [==============================] - 8s 998ms/step - loss: 0.4307 - accuracy: 0.7812 - val_loss: 0.3342 - val_accuracy: 0.8555\n",
      "Epoch 16/30\n",
      "8/8 [==============================] - 8s 983ms/step - loss: 0.4139 - accuracy: 0.8086 - val_loss: 0.3157 - val_accuracy: 0.8652\n",
      "Epoch 17/30\n",
      "8/8 [==============================] - 8s 1s/step - loss: 0.4670 - accuracy: 0.7930 - val_loss: 0.3670 - val_accuracy: 0.8262\n",
      "Epoch 18/30\n",
      "8/8 [==============================] - 8s 998ms/step - loss: 0.3521 - accuracy: 0.8320 - val_loss: 0.3186 - val_accuracy: 0.8672\n",
      "Epoch 19/30\n",
      "8/8 [==============================] - 8s 1s/step - loss: 0.4427 - accuracy: 0.7695 - val_loss: 0.3773 - val_accuracy: 0.8262\n",
      "Epoch 20/30\n",
      "8/8 [==============================] - 8s 986ms/step - loss: 0.4340 - accuracy: 0.7930 - val_loss: 0.3205 - val_accuracy: 0.8477\n",
      "Epoch 21/30\n",
      "8/8 [==============================] - 8s 1s/step - loss: 0.4270 - accuracy: 0.7930 - val_loss: 0.3122 - val_accuracy: 0.8672\n",
      "Epoch 22/30\n",
      "8/8 [==============================] - 8s 1s/step - loss: 0.3830 - accuracy: 0.8477 - val_loss: 0.3266 - val_accuracy: 0.8711\n",
      "Epoch 23/30\n",
      "8/8 [==============================] - 8s 1s/step - loss: 0.3665 - accuracy: 0.8516 - val_loss: 0.3223 - val_accuracy: 0.8516\n",
      "Epoch 24/30\n",
      "8/8 [==============================] - 8s 1s/step - loss: 0.4033 - accuracy: 0.8008 - val_loss: 0.3147 - val_accuracy: 0.8711\n",
      "Epoch 25/30\n",
      "8/8 [==============================] - 8s 1s/step - loss: 0.4660 - accuracy: 0.7930 - val_loss: 0.3392 - val_accuracy: 0.8535\n",
      "Epoch 26/30\n",
      "8/8 [==============================] - 8s 1s/step - loss: 0.3774 - accuracy: 0.8438 - val_loss: 0.3210 - val_accuracy: 0.8633\n",
      "Epoch 27/30\n",
      "8/8 [==============================] - 8s 994ms/step - loss: 0.3701 - accuracy: 0.8086 - val_loss: 0.3415 - val_accuracy: 0.8379\n",
      "Epoch 28/30\n",
      "8/8 [==============================] - 8s 1s/step - loss: 0.3440 - accuracy: 0.8555 - val_loss: 0.2815 - val_accuracy: 0.8887\n",
      "Epoch 29/30\n",
      "8/8 [==============================] - 8s 1s/step - loss: 0.3210 - accuracy: 0.8672 - val_loss: 0.2930 - val_accuracy: 0.8750\n",
      "Epoch 30/30\n",
      "8/8 [==============================] - 8s 1s/step - loss: 0.3367 - accuracy: 0.8281 - val_loss: 0.2998 - val_accuracy: 0.8770\n"
     ]
    }
   ],
   "source": [
    "# Train the model\n",
    "hstry = model.fit(\n",
    "    x=train_data,\n",
    "    steps_per_epoch=8,  # Adjust as needed\n",
    "    epochs=30,\n",
    "    verbose=1,\n",
    "    validation_data=val_data,\n",
    "    validation_steps=16,  # Adjust as needed\n",
    ")"
   ]
  },
  {
   "cell_type": "code",
   "execution_count": 16,
   "id": "7611bf11",
   "metadata": {},
   "outputs": [
    {
     "name": "stderr",
     "output_type": "stream",
     "text": [
      "C:\\Users\\aliha\\anaconda3\\Lib\\site-packages\\keras\\src\\engine\\training.py:3103: UserWarning: You are saving your model as an HDF5 file via `model.save()`. This file format is considered legacy. We recommend using instead the native Keras format, e.g. `model.save('my_model.keras')`.\n",
      "  saving_api.save_model(\n"
     ]
    }
   ],
   "source": [
    "# Save the trained model\n",
    "model.save(\"tumor_detection_model.h5\")"
   ]
  },
  {
   "cell_type": "code",
   "execution_count": 17,
   "id": "32dad7b6",
   "metadata": {},
   "outputs": [
    {
     "name": "stdout",
     "output_type": "stream",
     "text": [
      "INFO:tensorflow:Assets written to: C:\\Users\\aliha\\AppData\\Local\\Temp\\tmp5xk2pcbv\\assets\n"
     ]
    },
    {
     "name": "stderr",
     "output_type": "stream",
     "text": [
      "INFO:tensorflow:Assets written to: C:\\Users\\aliha\\AppData\\Local\\Temp\\tmp5xk2pcbv\\assets\n"
     ]
    }
   ],
   "source": [
    "# Convert the model to TensorFlow Lite format\n",
    "converter = tf.lite.TFLiteConverter.from_keras_model(model)\n",
    "tflite_model = converter.convert()"
   ]
  },
  {
   "cell_type": "code",
   "execution_count": 18,
   "id": "261658fc",
   "metadata": {},
   "outputs": [],
   "source": [
    "# Save the TensorFlow Lite model\n",
    "with open(\"tumor_detection_model.tflite\", \"wb\") as f:\n",
    "    f.write(tflite_model)"
   ]
  },
  {
   "cell_type": "code",
   "execution_count": 19,
   "id": "c128dc4b",
   "metadata": {},
   "outputs": [
    {
     "name": "stdout",
     "output_type": "stream",
     "text": [
      "32/32 [==============================] - 4s 117ms/step - loss: 0.2777 - accuracy: 0.8840\n",
      "Accuracy of our trained model on test data is 88.40000033378601%\n"
     ]
    }
   ],
   "source": [
    "# Evaluate the model on test data\n",
    "acc = model.evaluate(test_data)[1]\n",
    "print(f\"Accuracy of our trained model on test data is {acc * 100}%\")"
   ]
  },
  {
   "cell_type": "code",
   "execution_count": null,
   "id": "46ab83c1",
   "metadata": {},
   "outputs": [],
   "source": []
  }
 ],
 "metadata": {
  "kernelspec": {
   "display_name": "Python 3 (ipykernel)",
   "language": "python",
   "name": "python3"
  },
  "language_info": {
   "codemirror_mode": {
    "name": "ipython",
    "version": 3
   },
   "file_extension": ".py",
   "mimetype": "text/x-python",
   "name": "python",
   "nbconvert_exporter": "python",
   "pygments_lexer": "ipython3",
   "version": "3.11.5"
  }
 },
 "nbformat": 4,
 "nbformat_minor": 5
}
