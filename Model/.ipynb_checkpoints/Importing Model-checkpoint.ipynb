{
 "cells": [
  {
   "cell_type": "code",
   "execution_count": 1,
   "id": "9d3120c5",
   "metadata": {},
   "outputs": [
    {
     "name": "stdout",
     "output_type": "stream",
     "text": [
      "WARNING:tensorflow:From C:\\Users\\aliha\\anaconda3\\Lib\\site-packages\\keras\\src\\losses.py:2976: The name tf.losses.sparse_softmax_cross_entropy is deprecated. Please use tf.compat.v1.losses.sparse_softmax_cross_entropy instead.\n",
      "\n"
     ]
    }
   ],
   "source": [
    "import cv2\n",
    "import numpy as np\n",
    "from keras.preprocessing.image import img_to_array\n",
    "import tensorflow as tf"
   ]
  },
  {
   "cell_type": "code",
   "execution_count": 2,
   "id": "0a4cb714",
   "metadata": {},
   "outputs": [],
   "source": [
    "\n",
    "# Load the TensorFlow Lite model for tumor detection\n",
    "# Replace 'tumor_detection_model.tflite' with the actual path to your TensorFlow Lite model file\n",
    "interpreter = tf.lite.Interpreter(model_path=r\"C:\\Users\\aliha\\Desktop\\FYP\\Tensorflow Lite\\tumor_detection_model.tflite\")\n",
    "interpreter.allocate_tensors()\n",
    "\n",
    "# Get the input and output details\n",
    "input_details = interpreter.get_input_details()\n",
    "output_details = interpreter.get_output_details()\n"
   ]
  },
  {
   "cell_type": "code",
   "execution_count": 13,
   "id": "9925696f",
   "metadata": {},
   "outputs": [],
   "source": [
    "# Load the image for testing\n",
    "#path_img = r\"C:\\Users\\aliha\\Desktop\\FYP\\Project\\test\\benign\\melanoma_9666.jpg\"\n",
    "path_img = r\"C:\\Users\\aliha\\Desktop\\FYP\\Project\\test\\malignant\\melanoma_10131.jpg\"\n",
    "img = cv2.imread(path_img)\n",
    "img = cv2.resize(img, (224, 224))\n",
    "input_array = img_to_array(img) / 255.0\n",
    "input_array = np.expand_dims(input_array, axis=0)"
   ]
  },
  {
   "cell_type": "code",
   "execution_count": 14,
   "id": "1ba71575",
   "metadata": {},
   "outputs": [],
   "source": [
    "# Set the input tensor\n",
    "interpreter.set_tensor(input_details[0]['index'], input_array.astype(np.float32))\n",
    "\n",
    "# Run inference\n",
    "interpreter.invoke()\n",
    "\n",
    "# Get the output tensor and post-process the result\n",
    "output_data = interpreter.get_tensor(output_details[0]['index'])\n",
    "pred_class = 1 if output_data[0][0] > 0.5 else 0"
   ]
  },
  {
   "cell_type": "code",
   "execution_count": 15,
   "id": "94c1bccc",
   "metadata": {},
   "outputs": [
    {
     "name": "stdout",
     "output_type": "stream",
     "text": [
      "The image is benign i.e No-Cancer\n"
     ]
    }
   ],
   "source": [
    "# Print the result\n",
    "if pred_class == 1:\n",
    "    print(\"The image is benign i.e No-Cancer\")\n",
    "else:\n",
    "    print(\"The image is malignant i.e Cancer\")"
   ]
  },
  {
   "cell_type": "code",
   "execution_count": null,
   "id": "19e40eb6",
   "metadata": {},
   "outputs": [],
   "source": []
  },
  {
   "cell_type": "code",
   "execution_count": null,
   "id": "3adff673",
   "metadata": {},
   "outputs": [],
   "source": []
  },
  {
   "cell_type": "code",
   "execution_count": null,
   "id": "0bf2aa74",
   "metadata": {},
   "outputs": [],
   "source": []
  }
 ],
 "metadata": {
  "kernelspec": {
   "display_name": "Python 3 (ipykernel)",
   "language": "python",
   "name": "python3"
  },
  "language_info": {
   "codemirror_mode": {
    "name": "ipython",
    "version": 3
   },
   "file_extension": ".py",
   "mimetype": "text/x-python",
   "name": "python",
   "nbconvert_exporter": "python",
   "pygments_lexer": "ipython3",
   "version": "3.11.5"
  }
 },
 "nbformat": 4,
 "nbformat_minor": 5
}
