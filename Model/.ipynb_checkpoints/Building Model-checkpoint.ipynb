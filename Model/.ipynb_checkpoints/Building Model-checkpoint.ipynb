{
 "cells": [
  {
   "cell_type": "code",
   "execution_count": 1,
   "id": "6c071d11",
   "metadata": {},
   "outputs": [],
   "source": [
    "import numpy as np\n",
    "import matplotlib.pyplot as plt\n",
    "import os\n",
    "import math\n",
    "import shutil\n",
    "import glob"
   ]
  },
  {
   "cell_type": "code",
   "execution_count": 2,
   "id": "235251eb",
   "metadata": {},
   "outputs": [
    {
     "name": "stdout",
     "output_type": "stream",
     "text": [
      "WARNING:tensorflow:From C:\\Users\\aliha\\anaconda3\\Lib\\site-packages\\keras\\src\\losses.py:2976: The name tf.losses.sparse_softmax_cross_entropy is deprecated. Please use tf.compat.v1.losses.sparse_softmax_cross_entropy instead.\n",
      "\n"
     ]
    }
   ],
   "source": [
    "from keras.layers import Conv2D, MaxPool2D, Dropout,Flatten, Dense, BatchNormalization, GlobalAvgPool2D\n",
    "from keras.models import Sequential\n",
    "from keras.preprocessing.image import ImageDataGenerator\n",
    "from keras.callbacks import ModelCheckpoint, EarlyStopping\n",
    "from keras.models import load_model\n",
    "import keras"
   ]
  },
  {
   "cell_type": "code",
   "execution_count": 3,
   "id": "51247257",
   "metadata": {},
   "outputs": [
    {
     "name": "stdout",
     "output_type": "stream",
     "text": [
      "WARNING:tensorflow:From C:\\Users\\aliha\\anaconda3\\Lib\\site-packages\\keras\\src\\backend.py:873: The name tf.get_default_graph is deprecated. Please use tf.compat.v1.get_default_graph instead.\n",
      "\n",
      "WARNING:tensorflow:From C:\\Users\\aliha\\anaconda3\\Lib\\site-packages\\keras\\src\\layers\\pooling\\max_pooling2d.py:161: The name tf.nn.max_pool is deprecated. Please use tf.nn.max_pool2d instead.\n",
      "\n",
      "Model: \"sequential\"\n",
      "_________________________________________________________________\n",
      " Layer (type)                Output Shape              Param #   \n",
      "=================================================================\n",
      " conv2d (Conv2D)             (None, 222, 222, 16)      448       \n",
      "                                                                 \n",
      " conv2d_1 (Conv2D)           (None, 220, 220, 32)      4640      \n",
      "                                                                 \n",
      " max_pooling2d (MaxPooling2  (None, 110, 110, 32)      0         \n",
      " D)                                                              \n",
      "                                                                 \n",
      " conv2d_2 (Conv2D)           (None, 108, 108, 64)      18496     \n",
      "                                                                 \n",
      " max_pooling2d_1 (MaxPoolin  (None, 54, 54, 64)        0         \n",
      " g2D)                                                            \n",
      "                                                                 \n",
      " conv2d_3 (Conv2D)           (None, 52, 52, 128)       73856     \n",
      "                                                                 \n",
      " max_pooling2d_2 (MaxPoolin  (None, 26, 26, 128)       0         \n",
      " g2D)                                                            \n",
      "                                                                 \n",
      " dropout (Dropout)           (None, 26, 26, 128)       0         \n",
      "                                                                 \n",
      " flatten (Flatten)           (None, 86528)             0         \n",
      "                                                                 \n",
      " dense (Dense)               (None, 64)                5537856   \n",
      "                                                                 \n",
      " dropout_1 (Dropout)         (None, 64)                0         \n",
      "                                                                 \n",
      " dense_1 (Dense)             (None, 1)                 65        \n",
      "                                                                 \n",
      "=================================================================\n",
      "Total params: 5635361 (21.50 MB)\n",
      "Trainable params: 5635361 (21.50 MB)\n",
      "Non-trainable params: 0 (0.00 Byte)\n",
      "_________________________________________________________________\n"
     ]
    }
   ],
   "source": [
    "# CNN Model\n",
    "model=Sequential()\n",
    "model.add(Conv2D(filters=16, kernel_size=(3,3),activation= 'relu', input_shape=(224,224,3)))\n",
    "\n",
    "model.add(Conv2D(filters=32, kernel_size=(3,3),activation= 'relu' ))\n",
    "model.add(MaxPool2D(pool_size=(2,2)))\n",
    "\n",
    "model.add(Conv2D(filters=64, kernel_size=(3,3),activation= 'relu' ))\n",
    "model.add(MaxPool2D(pool_size=(2,2)))\n",
    "\n",
    "model.add(Conv2D(filters=128, kernel_size=(3,3),activation= 'relu' ))\n",
    "model.add(MaxPool2D(pool_size=(2,2)))\n",
    "\n",
    "model.add(Dropout(rate=0.25))\n",
    "\n",
    "model.add(Flatten())\n",
    "model.add(Dense(units=64, activation='relu'))\n",
    "model.add(Dropout(rate=0.25))\n",
    "model.add(Dense(units=1, activation='sigmoid'))\n",
    "\n",
    "model.summary()"
   ]
  },
  {
   "cell_type": "code",
   "execution_count": 4,
   "id": "b3117e2b",
   "metadata": {},
   "outputs": [
    {
     "name": "stdout",
     "output_type": "stream",
     "text": [
      "WARNING:tensorflow:From C:\\Users\\aliha\\anaconda3\\Lib\\site-packages\\keras\\src\\optimizers\\__init__.py:309: The name tf.train.Optimizer is deprecated. Please use tf.compat.v1.train.Optimizer instead.\n",
      "\n"
     ]
    }
   ],
   "source": [
    "model.compile(optimizer='adam', loss=keras.losses.binary_crossentropy,metrics=['accuracy'])"
   ]
  },
  {
   "cell_type": "code",
   "execution_count": 5,
   "id": "6aa300c1",
   "metadata": {},
   "outputs": [],
   "source": [
    "def preprocessingImages1(path):\n",
    "  \"\"\"\n",
    "  input: path\n",
    "  output: preprocessed images\n",
    "  \"\"\"\n",
    "  image_data=ImageDataGenerator(zoom_range=0.2, shear_range=0.2, rescale=1/255, horizontal_flip=True)\n",
    "  image = image_data.flow_from_directory(directory= path, target_size=(224,224),batch_size=32, class_mode='binary')\n",
    "\n",
    "  return image"
   ]
  },
  {
   "cell_type": "code",
   "execution_count": 6,
   "id": "4f1c3070",
   "metadata": {},
   "outputs": [
    {
     "name": "stdout",
     "output_type": "stream",
     "text": [
      "Found 9605 images belonging to 2 classes.\n"
     ]
    }
   ],
   "source": [
    "path= \"C:/Users/aliha/Desktop/FYP/Project/train\"\n",
    "train_data = preprocessingImages1(path)"
   ]
  },
  {
   "cell_type": "code",
   "execution_count": 7,
   "id": "734a8e20",
   "metadata": {},
   "outputs": [],
   "source": [
    "def preprocessingImages1(path):\n",
    "  \"\"\"\n",
    "  input: path\n",
    "  output: preprocessed images\n",
    "  \"\"\"\n",
    "  image_data=ImageDataGenerator(zoom_range=0.2, shear_range=0.2, rescale=1/255, horizontal_flip=True)\n",
    "  image=image_data.flow_from_directory(directory= path, target_size=(224,224),batch_size=32, class_mode='binary')\n",
    "\n",
    "  return image"
   ]
  },
  {
   "cell_type": "code",
   "execution_count": 8,
   "id": "e8d28ed1",
   "metadata": {},
   "outputs": [],
   "source": [
    "def preprocessingImages2(path):\n",
    "  \"\"\"\n",
    "  input: path\n",
    "  output: preprocessed images\n",
    "  \"\"\"\n",
    "  image_data=ImageDataGenerator( rescale=1/255)\n",
    "  image=image_data.flow_from_directory(directory= path, target_size=(224,224),batch_size=32, class_mode='binary')\n",
    "\n",
    "  return image"
   ]
  },
  {
   "cell_type": "code",
   "execution_count": 9,
   "id": "178487e1",
   "metadata": {},
   "outputs": [
    {
     "name": "stdout",
     "output_type": "stream",
     "text": [
      "Found 1000 images belonging to 2 classes.\n"
     ]
    }
   ],
   "source": [
    "path = \"C:/Users/aliha/Desktop/FYP/Project/test\"\n",
    "test_data= preprocessingImages2(path)"
   ]
  },
  {
   "cell_type": "code",
   "execution_count": 10,
   "id": "9e398735",
   "metadata": {},
   "outputs": [],
   "source": [
    "# validation data\n",
    "def preprocessingImages3(path):\n",
    "  \"\"\"\n",
    "  input: path\n",
    "  output: preprocessed images\n",
    "  \"\"\"\n",
    "  image_data=ImageDataGenerator( rescale=1/255)\n",
    "  image=image_data.flow_from_directory(directory= path, target_size=(224,224),batch_size=32, class_mode='binary')\n",
    "\n",
    "  return image"
   ]
  },
  {
   "cell_type": "code",
   "execution_count": 11,
   "id": "02012b5a",
   "metadata": {},
   "outputs": [
    {
     "name": "stdout",
     "output_type": "stream",
     "text": [
      "Found 1000 images belonging to 2 classes.\n"
     ]
    }
   ],
   "source": [
    "path = \"C:/Users/aliha/Desktop/FYP/Project/test\"\n",
    "val_data= preprocessingImages3(path)"
   ]
  },
  {
   "cell_type": "code",
   "execution_count": 12,
   "id": "32ff41d9",
   "metadata": {},
   "outputs": [],
   "source": [
    "#Early Stopping\n",
    "ES = EarlyStopping(monitor='val_accuracy',min_delta=0.01,patience=5, verbose=1, mode='auto')\n",
    " # for better performance you can increase patience value from 3 to 5 or any other higher value\n",
    "#Model Checkpoint\n",
    "MC = ModelCheckpoint(monitor='val_accuracy',filepath=\"./bestmodel.h5\", verbose=1, save_best_only=True, mode='auto')\n",
    "\n",
    "# CallBacks\n",
    "CD= [ES, MC]"
   ]
  },
  {
   "cell_type": "code",
   "execution_count": 13,
   "id": "65c3c180",
   "metadata": {},
   "outputs": [
    {
     "name": "stdout",
     "output_type": "stream",
     "text": [
      "Epoch 1/30\n",
      "WARNING:tensorflow:From C:\\Users\\aliha\\anaconda3\\Lib\\site-packages\\keras\\src\\utils\\tf_utils.py:492: The name tf.ragged.RaggedTensorValue is deprecated. Please use tf.compat.v1.ragged.RaggedTensorValue instead.\n",
      "\n",
      "WARNING:tensorflow:From C:\\Users\\aliha\\anaconda3\\Lib\\site-packages\\keras\\src\\engine\\base_layer_utils.py:384: The name tf.executing_eagerly_outside_functions is deprecated. Please use tf.compat.v1.executing_eagerly_outside_functions instead.\n",
      "\n",
      "8/8 [==============================] - ETA: 0s - loss: 0.9454 - accuracy: 0.5586\n",
      "Epoch 1: val_accuracy improved from -inf to 0.76758, saving model to .\\bestmodel.h5\n"
     ]
    },
    {
     "name": "stderr",
     "output_type": "stream",
     "text": [
      "C:\\Users\\aliha\\anaconda3\\Lib\\site-packages\\keras\\src\\engine\\training.py:3103: UserWarning: You are saving your model as an HDF5 file via `model.save()`. This file format is considered legacy. We recommend using instead the native Keras format, e.g. `model.save('my_model.keras')`.\n",
      "  saving_api.save_model(\n"
     ]
    },
    {
     "name": "stdout",
     "output_type": "stream",
     "text": [
      "8/8 [==============================] - 21s 2s/step - loss: 0.9454 - accuracy: 0.5586 - val_loss: 0.6488 - val_accuracy: 0.7676\n",
      "Epoch 2/30\n",
      "8/8 [==============================] - ETA: 0s - loss: 0.6445 - accuracy: 0.6445\n",
      "Epoch 2: val_accuracy improved from 0.76758 to 0.76953, saving model to .\\bestmodel.h5\n",
      "8/8 [==============================] - 18s 2s/step - loss: 0.6445 - accuracy: 0.6445 - val_loss: 0.5131 - val_accuracy: 0.7695\n",
      "Epoch 3/30\n",
      "8/8 [==============================] - ETA: 0s - loss: 0.5577 - accuracy: 0.7383\n",
      "Epoch 3: val_accuracy did not improve from 0.76953\n",
      "8/8 [==============================] - 18s 2s/step - loss: 0.5577 - accuracy: 0.7383 - val_loss: 0.6696 - val_accuracy: 0.6992\n",
      "Epoch 4/30\n",
      "8/8 [==============================] - ETA: 0s - loss: 0.6652 - accuracy: 0.6172\n",
      "Epoch 4: val_accuracy did not improve from 0.76953\n",
      "8/8 [==============================] - 18s 2s/step - loss: 0.6652 - accuracy: 0.6172 - val_loss: 0.5747 - val_accuracy: 0.6680\n",
      "Epoch 5/30\n",
      "8/8 [==============================] - ETA: 0s - loss: 0.5895 - accuracy: 0.6914\n",
      "Epoch 5: val_accuracy improved from 0.76953 to 0.79688, saving model to .\\bestmodel.h5\n",
      "8/8 [==============================] - 19s 2s/step - loss: 0.5895 - accuracy: 0.6914 - val_loss: 0.4992 - val_accuracy: 0.7969\n",
      "Epoch 6/30\n",
      "8/8 [==============================] - ETA: 0s - loss: 0.5240 - accuracy: 0.7695\n",
      "Epoch 6: val_accuracy improved from 0.79688 to 0.80469, saving model to .\\bestmodel.h5\n",
      "8/8 [==============================] - 18s 2s/step - loss: 0.5240 - accuracy: 0.7695 - val_loss: 0.4371 - val_accuracy: 0.8047\n",
      "Epoch 7/30\n",
      "8/8 [==============================] - ETA: 0s - loss: 0.4796 - accuracy: 0.7598\n",
      "Epoch 7: val_accuracy did not improve from 0.80469\n",
      "8/8 [==============================] - 17s 2s/step - loss: 0.4796 - accuracy: 0.7598 - val_loss: 0.4139 - val_accuracy: 0.8008\n",
      "Epoch 8/30\n",
      "8/8 [==============================] - ETA: 0s - loss: 0.4210 - accuracy: 0.8086\n",
      "Epoch 8: val_accuracy improved from 0.80469 to 0.81250, saving model to .\\bestmodel.h5\n",
      "8/8 [==============================] - 18s 2s/step - loss: 0.4210 - accuracy: 0.8086 - val_loss: 0.3987 - val_accuracy: 0.8125\n",
      "Epoch 9/30\n",
      "8/8 [==============================] - ETA: 0s - loss: 0.4254 - accuracy: 0.8125\n",
      "Epoch 9: val_accuracy improved from 0.81250 to 0.83594, saving model to .\\bestmodel.h5\n",
      "8/8 [==============================] - 18s 2s/step - loss: 0.4254 - accuracy: 0.8125 - val_loss: 0.3887 - val_accuracy: 0.8359\n",
      "Epoch 10/30\n",
      "8/8 [==============================] - ETA: 0s - loss: 0.4614 - accuracy: 0.7656\n",
      "Epoch 10: val_accuracy improved from 0.83594 to 0.86914, saving model to .\\bestmodel.h5\n",
      "8/8 [==============================] - 17s 2s/step - loss: 0.4614 - accuracy: 0.7656 - val_loss: 0.3316 - val_accuracy: 0.8691\n",
      "Epoch 11/30\n",
      "8/8 [==============================] - ETA: 0s - loss: 0.4323 - accuracy: 0.7969\n",
      "Epoch 11: val_accuracy improved from 0.86914 to 0.87891, saving model to .\\bestmodel.h5\n",
      "8/8 [==============================] - 17s 2s/step - loss: 0.4323 - accuracy: 0.7969 - val_loss: 0.3028 - val_accuracy: 0.8789\n",
      "Epoch 12/30\n",
      "8/8 [==============================] - ETA: 0s - loss: 0.3970 - accuracy: 0.8281\n",
      "Epoch 12: val_accuracy did not improve from 0.87891\n",
      "8/8 [==============================] - 17s 2s/step - loss: 0.3970 - accuracy: 0.8281 - val_loss: 0.3589 - val_accuracy: 0.8320\n",
      "Epoch 13/30\n",
      "8/8 [==============================] - ETA: 0s - loss: 0.4715 - accuracy: 0.7695\n",
      "Epoch 13: val_accuracy did not improve from 0.87891\n",
      "8/8 [==============================] - 17s 2s/step - loss: 0.4715 - accuracy: 0.7695 - val_loss: 0.3402 - val_accuracy: 0.8359\n",
      "Epoch 14/30\n",
      "8/8 [==============================] - ETA: 0s - loss: 0.3807 - accuracy: 0.8438\n",
      "Epoch 14: val_accuracy did not improve from 0.87891\n",
      "8/8 [==============================] - 17s 2s/step - loss: 0.3807 - accuracy: 0.8438 - val_loss: 0.3182 - val_accuracy: 0.8711\n",
      "Epoch 15/30\n",
      "8/8 [==============================] - ETA: 0s - loss: 0.3376 - accuracy: 0.8867\n",
      "Epoch 15: val_accuracy did not improve from 0.87891\n",
      "8/8 [==============================] - 18s 2s/step - loss: 0.3376 - accuracy: 0.8867 - val_loss: 0.2855 - val_accuracy: 0.8789\n",
      "Epoch 15: early stopping\n"
     ]
    }
   ],
   "source": [
    "hstry = model.fit(x=train_data,\n",
    "                  steps_per_epoch=8,  # Adjust as needed\n",
    "                  epochs=30,\n",
    "                  verbose=1,\n",
    "                  validation_data=val_data,\n",
    "                  validation_steps=16,  # Adjust as needed\n",
    "                  callbacks=CD)\n"
   ]
  },
  {
   "cell_type": "code",
   "execution_count": 14,
   "id": "c128dc4b",
   "metadata": {},
   "outputs": [
    {
     "name": "stdout",
     "output_type": "stream",
     "text": [
      "32/32 [==============================] - 11s 333ms/step - loss: 0.3033 - accuracy: 0.8710\n",
      "Accuracy of our trained model on test data is 87.09999918937683%\n"
     ]
    }
   ],
   "source": [
    "modelTrained = load_model(r\"C:\\Users\\aliha\\Desktop\\FYP\\Tumor_detection\\bestmodel.h5\")\n",
    "acc= model.evaluate(test_data)[1]\n",
    "print(f\"Accuracy of our trained model on test data is {acc*100}%\")"
   ]
  },
  {
   "cell_type": "code",
   "execution_count": null,
   "id": "32dad7b6",
   "metadata": {},
   "outputs": [],
   "source": []
  }
 ],
 "metadata": {
  "kernelspec": {
   "display_name": "Python 3 (ipykernel)",
   "language": "python",
   "name": "python3"
  },
  "language_info": {
   "codemirror_mode": {
    "name": "ipython",
    "version": 3
   },
   "file_extension": ".py",
   "mimetype": "text/x-python",
   "name": "python",
   "nbconvert_exporter": "python",
   "pygments_lexer": "ipython3",
   "version": "3.11.5"
  }
 },
 "nbformat": 4,
 "nbformat_minor": 5
}
